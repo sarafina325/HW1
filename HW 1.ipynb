{
 "cells": [
  {
   "cell_type": "code",
   "execution_count": 225,
   "metadata": {},
   "outputs": [
    {
     "name": "stdout",
     "output_type": "stream",
     "text": [
      "(331776,)\n",
      "(663552,)\n",
      "(995328,)\n",
      "(1327104,)\n",
      "(1658880,)\n",
      "(1990656,)\n",
      "(2322432,)\n",
      "(2654208,)\n",
      "(2985984,)\n",
      "(3317760,)\n",
      "(3649536,)\n",
      "(3981312,)\n",
      "(4313088,)\n",
      "(4644864,)\n",
      "(4976640,)\n",
      "(5308416,)\n",
      "(5640192,)\n",
      "(5971968,)\n",
      "(6303744,)\n",
      "(6635520,)\n",
      "(6967296,)\n",
      "(7299072,)\n",
      "(7630848,)\n",
      "(7962624,)\n",
      "(8294400,)\n",
      "(8626176,)\n",
      "(8957952,)\n",
      "(9289728,)\n",
      "(9621504,)\n",
      "(9953280,)\n",
      "(10285056,)\n",
      "(10616832,)\n",
      "(10948608,)\n",
      "(11280384,)\n",
      "(11612160,)\n",
      "(11943936,)\n",
      "(12275712,)\n",
      "(12607488,)\n",
      "(12939264,)\n",
      "(13271040,)\n",
      "(13602816,)\n"
     ]
    },
    {
     "ename": "KeyboardInterrupt",
     "evalue": "",
     "output_type": "error",
     "traceback": [
      "\u001b[0;31m---------------------------------------------------------------------------\u001b[0m",
      "\u001b[0;31mKeyboardInterrupt\u001b[0m                         Traceback (most recent call last)",
      "\u001b[0;32m<ipython-input-225-072894b19746>\u001b[0m in \u001b[0;36m<module>\u001b[0;34m()\u001b[0m\n\u001b[1;32m     11\u001b[0m \u001b[0;32mfor\u001b[0m \u001b[0mfilename\u001b[0m \u001b[0;32min\u001b[0m \u001b[0mos\u001b[0m\u001b[0;34m.\u001b[0m\u001b[0mlistdir\u001b[0m\u001b[0;34m(\u001b[0m\u001b[0mos\u001b[0m\u001b[0;34m.\u001b[0m\u001b[0mgetcwd\u001b[0m\u001b[0;34m(\u001b[0m\u001b[0;34m)\u001b[0m\u001b[0;34m+\u001b[0m\u001b[0;34m\"/Data-Images\"\u001b[0m\u001b[0;34m)\u001b[0m\u001b[0;34m:\u001b[0m\u001b[0;34m\u001b[0m\u001b[0m\n\u001b[1;32m     12\u001b[0m     \u001b[0mimg\u001b[0m \u001b[0;34m=\u001b[0m \u001b[0mimread\u001b[0m\u001b[0;34m(\u001b[0m\u001b[0;34m\"Data-Images/\"\u001b[0m \u001b[0;34m+\u001b[0m \u001b[0mfilename\u001b[0m\u001b[0;34m)\u001b[0m\u001b[0;34m\u001b[0m\u001b[0m\n\u001b[0;32m---> 13\u001b[0;31m     \u001b[0mimages\u001b[0m \u001b[0;34m=\u001b[0m \u001b[0mnp\u001b[0m\u001b[0;34m.\u001b[0m\u001b[0mappend\u001b[0m\u001b[0;34m(\u001b[0m\u001b[0mimages\u001b[0m\u001b[0;34m,\u001b[0m \u001b[0;34m[\u001b[0m\u001b[0mimg\u001b[0m\u001b[0;34m]\u001b[0m\u001b[0;34m)\u001b[0m\u001b[0;34m\u001b[0m\u001b[0m\n\u001b[0m\u001b[1;32m     14\u001b[0m     \u001b[0mprint\u001b[0m\u001b[0;34m(\u001b[0m\u001b[0mimages\u001b[0m\u001b[0;34m.\u001b[0m\u001b[0mshape\u001b[0m\u001b[0;34m)\u001b[0m\u001b[0;34m\u001b[0m\u001b[0m\n\u001b[1;32m     15\u001b[0m \u001b[0;34m\u001b[0m\u001b[0m\n",
      "\u001b[0;32m~/anaconda/envs/datascience/lib/python3.6/site-packages/numpy/lib/function_base.py\u001b[0m in \u001b[0;36mappend\u001b[0;34m(arr, values, axis)\u001b[0m\n\u001b[1;32m   5150\u001b[0m         \u001b[0mvalues\u001b[0m \u001b[0;34m=\u001b[0m \u001b[0mravel\u001b[0m\u001b[0;34m(\u001b[0m\u001b[0mvalues\u001b[0m\u001b[0;34m)\u001b[0m\u001b[0;34m\u001b[0m\u001b[0m\n\u001b[1;32m   5151\u001b[0m         \u001b[0maxis\u001b[0m \u001b[0;34m=\u001b[0m \u001b[0marr\u001b[0m\u001b[0;34m.\u001b[0m\u001b[0mndim\u001b[0m\u001b[0;34m-\u001b[0m\u001b[0;36m1\u001b[0m\u001b[0;34m\u001b[0m\u001b[0m\n\u001b[0;32m-> 5152\u001b[0;31m     \u001b[0;32mreturn\u001b[0m \u001b[0mconcatenate\u001b[0m\u001b[0;34m(\u001b[0m\u001b[0;34m(\u001b[0m\u001b[0marr\u001b[0m\u001b[0;34m,\u001b[0m \u001b[0mvalues\u001b[0m\u001b[0;34m)\u001b[0m\u001b[0;34m,\u001b[0m \u001b[0maxis\u001b[0m\u001b[0;34m=\u001b[0m\u001b[0maxis\u001b[0m\u001b[0;34m)\u001b[0m\u001b[0;34m\u001b[0m\u001b[0m\n\u001b[0m",
      "\u001b[0;31mKeyboardInterrupt\u001b[0m: "
     ]
    }
   ],
   "source": [
    "import os\n",
    "import numpy as np\n",
    "from imageio import imread\n",
    "from skimage.transform import resize\n",
    "from scipy.misc import imsave\n",
    "from scipy.signal import fftconvolve\n",
    "\n",
    "images = np.array([])\n",
    "big_images = np.array([])\n",
    "\n",
    "for filename in os.listdir(os.getcwd()+\"/Data-Images\"):\n",
    "    img = imread(\"Data-Images/\" + filename)\n",
    "    images = np.append(images, [img])\n",
    "    print(images.shape)\n",
    "    \n",
    "for filename in os.listdir(os.getcwd()+\"/Data-Images-Big\"):\n",
    "    img = imread(\"Data-Images-Big/\" + filename)\n",
    "    new_height = len(img) * 3\n",
    "    new_length = len(img[0]) * 3\n",
    "    new_image = np.resize(img, (new_height, new_length))\n",
    "    print(new_image.shape)\n",
    "    big_images = np.append(big_images, new_image)\n",
    "    \n",
    "#imsave(filename + \"_big.jpg\", new_image)\n",
    "\n",
    "first_img = big_images[0]\n",
    "print (big_images.shape)\n",
    "#fftconvolve(first_img, big_images[1][::-1, ::-1])\n",
    "#for i in range(len(1, big_images)):\n",
    "     #img = big_images[i]\n",
    "     #print (fftconvolve(first_img, img[::-1, ::-1]))\n"
   ]
  },
  {
   "cell_type": "code",
   "execution_count": 215,
   "metadata": {},
   "outputs": [
    {
     "data": {
      "text/plain": [
       "()"
      ]
     },
     "execution_count": 215,
     "metadata": {},
     "output_type": "execute_result"
    }
   ],
   "source": [
    "first_img.shape"
   ]
  },
  {
   "cell_type": "code",
   "execution_count": 211,
   "metadata": {},
   "outputs": [
    {
     "data": {
      "text/plain": [
       "373680"
      ]
     },
     "execution_count": 211,
     "metadata": {},
     "output_type": "execute_result"
    }
   ],
   "source": [
    "# import os\n",
    "# import numpy as np\n",
    "# from imageio import imread\n",
    "# from skimage.transform import resize\n",
    "# from scipy.misc import imsave\n",
    "# from scipy.signal import fftconvolve#print (first_img)\n",
    "\n",
    "# big_image1 = imread(\"Data-Images-Big/im2-0.png_big.jpg\")\n",
    "# big_image2 = imread(\"Data-Images-Big/im2-1.png_big.jpg\")\n",
    "\n",
    "# def offset(im1, im2):\n",
    "#    # get rid of the color channels by performing a grayscale transform\n",
    "#    # the type cast into 'float' is to avoid overflows\n",
    "#    im1_gray = np.sum(big_image1.astype('float'), axis=2)/3\n",
    "#    im2_gray = np.sum(big_image2.astype('float'), axis=2)/3\n",
    "\n",
    "#    # get rid of the averages, otherwise the results are not good\n",
    "#    im1_gray -= np.mean(im1_gray)\n",
    "#    im2_gray -= np.mean(im2_gray)\n",
    "\n",
    "#    # calculate the correlation image; note the flipping of one of the images\n",
    "#    return fftconvolve(im1_gray, im2_gray[::-1,::-1], mode='same')\n",
    "\n",
    "\n",
    "\n",
    "test = offset(big_image1, big_image2)\n",
    "#plt.plot(test)\n",
    "test.shape\n",
    "np.argmax(test)\n",
    "\n",
    "#print(big_image2.shape)\n",
    "# print(big_image2.size)\n",
    "# print(im1_gray.size)"
   ]
  },
  {
   "cell_type": "code",
   "execution_count": null,
   "metadata": {
    "collapsed": true
   },
   "outputs": [],
   "source": []
  },
  {
   "cell_type": "markdown",
   "metadata": {},
   "source": [
    "# Question 2"
   ]
  },
  {
   "cell_type": "code",
   "execution_count": 204,
   "metadata": {},
   "outputs": [
    {
     "name": "stdout",
     "output_type": "stream",
     "text": [
      "Populating the interactive namespace from numpy and matplotlib\n"
     ]
    },
    {
     "name": "stderr",
     "output_type": "stream",
     "text": [
      "/Users/sarafinanance/anaconda/envs/datascience/lib/python3.6/site-packages/IPython/core/magics/pylab.py:160: UserWarning: pylab import has clobbered these variables: ['diff', 'imsave', 'random', 'resize', 'imread', 'datetime', 'test']\n",
      "`%matplotlib` prevents importing * from pylab and numpy\n",
      "  \"\\n`%matplotlib` prevents importing * from pylab and numpy\"\n"
     ]
    }
   ],
   "source": [
    "%pylab inline\n",
    "import numpy as np\n",
    "import matplotlib.pyplot as plt\n",
    "\n",
    "# we'll need some path manipulations later on\n",
    "import os"
   ]
  },
  {
   "cell_type": "code",
   "execution_count": 4,
   "metadata": {
    "collapsed": true
   },
   "outputs": [],
   "source": [
    "def Audio(fname):\n",
    "    \"\"\"Provide a player widget for an audio file.\n",
    "    \n",
    "    Parameters\n",
    "    ==========\n",
    "    fname : string\n",
    "      Filename to be played.\n",
    "      \n",
    "    Warning\n",
    "    =======\n",
    "    \n",
    "    Browsers cache audio very aggressively. If you change an\n",
    "    audio file on disk and are trying to listen to the  new version, you \n",
    "    may want to \n",
    "    \"\"\"\n",
    "    from IPython.display import HTML, display\n",
    "    \n",
    "    # Find out file extension and deduce MIME type for audio format\n",
    "    ext = os.path.splitext(fname)[1].replace('.', '').lower()\n",
    "    mimetype = 'audio/' + ('mpeg' if ext == 'mp3' else ext)\n",
    "    \n",
    "    tpl = \"\"\"<p>{fname}:</p>\n",
    "<audio controls>\n",
    "    <source src=\"files/{fname}\" type=\"{mimetype}\">\n",
    "\n",
    "Your browser does not support the Audio element; you can play \n",
    "<a href=\"files/{fname}\">this file</a> manually.\n",
    "</audio>\n",
    "\"\"\"\n",
    "    display(HTML(tpl.format(**locals())))"
   ]
  },
  {
   "cell_type": "code",
   "execution_count": 32,
   "metadata": {
    "collapsed": true
   },
   "outputs": [],
   "source": [
    "def specgram_cbar(x, title=None, clim=(0, 80) ):\n",
    "    \"\"\"Plot spectrogram with a colorbar and range normalization.\n",
    "    \n",
    "    Call matplotlib's specgram function, with a custom figure size, \n",
    "    automatic colobar, title and custom color limits to ease \n",
    "    comparison across multiple figures.\n",
    "    \n",
    "    Parameters\n",
    "    ==========\n",
    "    x : array\n",
    "      One-dimensional array whose spectrogram should be plotted.\n",
    "      \n",
    "    title : string\n",
    "      Optional title for the figure.\n",
    "      \n",
    "    clim : 2-tuple\n",
    "      Range for the color limits plotted in the spectrogram.\n",
    "    \"\"\"\n",
    "    f = plt.figure(figsize=(10,3))\n",
    "    plt.specgram(x)\n",
    "    plt.colorbar()\n",
    "    plt.clim(*clim)\n",
    "    if title is not None:\n",
    "        plt.title(title)\n",
    "    plt.show()"
   ]
  },
  {
   "cell_type": "code",
   "execution_count": 8,
   "metadata": {},
   "outputs": [
    {
     "data": {
      "text/html": [
       "<p>data/voice.wav:</p>\n",
       "<audio controls>\n",
       "    <source src=\"files/data/voice.wav\" type=\"audio/wav\">\n",
       "\n",
       "Your browser does not support the Audio element; you can play \n",
       "<a href=\"files/data/voice.wav\">this file</a> manually.\n",
       "</audio>\n"
      ],
      "text/plain": [
       "<IPython.core.display.HTML object>"
      ]
     },
     "metadata": {},
     "output_type": "display_data"
    }
   ],
   "source": [
    "Audio('data/voice.wav')"
   ]
  },
  {
   "cell_type": "code",
   "execution_count": 9,
   "metadata": {
    "collapsed": true
   },
   "outputs": [],
   "source": [
    "from random import random\n",
    "\n",
    "def compress_signal(x, fraction):\n",
    "    \"\"\"Compress an input signal by dropping a fraction of its spectrum.\n",
    "    \n",
    "    Parameters\n",
    "    ==========\n",
    "    x : array\n",
    "      1-d real array to be compressed\n",
    "      \n",
    "    fraction : float\n",
    "      A number in the [0,1] range indicating which fraction of the spectrum\n",
    "      of x should be zeroed out (1 means zero out the entire signal).\n",
    "      \n",
    "    Returns\n",
    "    =======\n",
    "    x_approx : array\n",
    "      1-d real array reconstructed after having compressed the input.\n",
    "    \"\"\"\n",
    "\n",
    "    res = np.array([])\n",
    "    \n",
    "    for elem in x:\n",
    "        num = random()\n",
    "        if fraction > num:\n",
    "            res = np.append(res, elem)\n",
    "    return res.astype(numpy.uint8)\n",
    "        "
   ]
  },
  {
   "cell_type": "code",
   "execution_count": 10,
   "metadata": {},
   "outputs": [
    {
     "data": {
      "image/png": "[encoded data removed]",
      "text/plain": [
       "<matplotlib.figure.Figure at 0x10d497d68>"
      ]
     },
     "metadata": {},
     "output_type": "display_data"
    }
   ],
   "source": [
    "x = np.random.rand(128)\n",
    "\n",
    "fraction = 0.5  # play changing this in the 0-1 range\n",
    "\n",
    "xa = compress_signal(x, fraction)\n",
    "\n",
    "plt.figure(figsize=(12,3))\n",
    "plt.plot(x, alpha=0.5, lw=2, label='original')\n",
    "plt.plot(xa, lw=2, label='compressed {0:.0%}'.format(fraction))\n",
    "plt.legend();"
   ]
  },
  {
   "cell_type": "code",
   "execution_count": 11,
   "metadata": {},
   "outputs": [
    {
     "ename": "SyntaxError",
     "evalue": "Missing parentheses in call to 'print'. Did you mean print(int new_filename)? (<ipython-input-11-d3c9ca1fb337>, line 37)",
     "output_type": "error",
     "traceback": [
      "\u001b[0;36m  File \u001b[0;32m\"<ipython-input-11-d3c9ca1fb337>\"\u001b[0;36m, line \u001b[0;32m37\u001b[0m\n\u001b[0;31m    print new_filename\u001b[0m\n\u001b[0m                     ^\u001b[0m\n\u001b[0;31mSyntaxError\u001b[0m\u001b[0;31m:\u001b[0m Missing parentheses in call to 'print'. Did you mean print(int new_filename)?\n"
     ]
    }
   ],
   "source": [
    "from scipy.io.wavfile import read, write\n",
    "\n",
    "def compress_wav(fname, fraction):\n",
    "    \"\"\"Compress an audio signal stored in an input wav file.\n",
    "    \n",
    "    The compressed signal is returned as a numpy array and automatically written \n",
    "    to disk to a new wav file.\n",
    "    \n",
    "    Parameters\n",
    "    ==========\n",
    "    fname : string\n",
    "      Name of the input wav file\n",
    "      \n",
    "    fraction : float\n",
    "      Fraction of input data to keep.\n",
    "      \n",
    "    Returns\n",
    "    =======\n",
    "    rate : int\n",
    "      Bit rate of the input signal.\n",
    "\n",
    "    x : array\n",
    "      Raw data of the original input signal.\n",
    "      \n",
    "    x_approx : array\n",
    "      Raw data of the compressed signal.\n",
    "      \n",
    "    new_fname : string\n",
    "      Auto-generated filename of the compressed signal.\n",
    "    \"\"\"\n",
    "    \n",
    "    rate, data = read(fname)\n",
    "    \n",
    "    new_audio_compressed = compress_signal(data, fraction)\n",
    "    \n",
    "    new_filename = fname + '_comp_' + str(fraction) + '.wav'\n",
    "    print new_filename\n",
    "    write(new_filename, rate, new_audio_compressed)\n",
    "    \n",
    "    "
   ]
  },
  {
   "cell_type": "code",
   "execution_count": 68,
   "metadata": {},
   "outputs": [
    {
     "name": "stdout",
     "output_type": "stream",
     "text": [
      "data/voice.wav_comp_0.1.wav\n"
     ]
    }
   ],
   "source": [
    "compress_wav('data/voice.wav', 0.1)"
   ]
  },
  {
   "cell_type": "markdown",
   "metadata": {},
   "source": [
    "# Question 3 A)"
   ]
  },
  {
   "cell_type": "code",
   "execution_count": 72,
   "metadata": {},
   "outputs": [
    {
     "name": "stdout",
     "output_type": "stream",
     "text": [
      "29.5783912102\n"
     ]
    },
    {
     "data": {
      "image/png": "[encoded data removed]",
      "text/plain": [
       "<matplotlib.figure.Figure at 0x1c15c34eb8>"
      ]
     },
     "metadata": {},
     "output_type": "display_data"
    }
   ],
   "source": [
    "import pandas as pd\n",
    "from scipy.signal.spectral import lombscargle\n",
    "%matplotlib inline\n",
    "from datetime import datetime\n",
    "import dateutil.parser as parser\n",
    "\n",
    "merged_data = pd.read_csv(\"~/Desktop/AST250/hw_1/merged_data.csv\")\n",
    "\n",
    "moon_searches = merged_data[\"full moon\"]\n",
    "tennis = np.array(merged_data[\"tennis\"]).astype(float)\n",
    "vball = np.array(merged_data[\"Volleyball\"]).astype(float)\n",
    "icecream = np.array(merged_data[\"ice cream\"]).astype(float)\n",
    "time = merged_data[\"Week\"]\n",
    "moon = np.array(moon_searches).astype(float)\n",
    "\n",
    "dates = np.zeros([len(time)])\n",
    "for i in range(len(time)):\n",
    "    newtime = pd.to_datetime(time[i])\n",
    "    newtime0 = pd.to_datetime(time[0])\n",
    "    dates[i]=(newtime - newtime0).days\n",
    "\n",
    "freq = np.linspace(0.01, 0.40, 500)\n",
    "lombs = lombscargle(dates, moon, freq)\n",
    "plt.plot(freq, lombs)\n",
    "\n",
    "index = argmax(lombs)\n",
    "period = (1/freq[index])*2*np.pi\n",
    "print (period)"
   ]
  },
  {
   "cell_type": "code",
   "execution_count": 82,
   "metadata": {},
   "outputs": [
    {
     "name": "stdout",
     "output_type": "stream",
     "text": [
      "352.339015683\n",
      "351.471719645\n",
      "359.928787662\n"
     ]
    },
    {
     "data": {
      "image/png": "[encoded data removed]",
      "text/plain": [
       "<matplotlib.figure.Figure at 0x1c15baa1d0>"
      ]
     },
     "metadata": {},
     "output_type": "display_data"
    }
   ],
   "source": [
    "freq_new = np.linspace(0.01, 0.03, 10000)\n",
    "\n",
    "lombs1 = lombscargle(dates, tennis, freq_new)\n",
    "lombs2 = lombscargle(dates, vball, freq_new)\n",
    "lombs3 = lombscargle(dates, icecream, freq_new)\n",
    "\n",
    "plt.plot(freq_new,lombs1)\n",
    "plt.plot(freq_new,lombs2)\n",
    "plt.plot(freq_new,lombs3)\n",
    "\n",
    "index_ten = argmax(lombs1)\n",
    "period_ten = (1/freq_new[index_ten])*2*np.pi\n",
    "print (period_ten)\n",
    "\n",
    "index_vball = argmax(lombs2)\n",
    "period_vball = (1/freq_new[index_vball])*2*np.pi\n",
    "print (period_vball)\n",
    "\n",
    "index_icecream = argmax(lombs3)\n",
    "period_icecream = (1/freq_new[index_icecream])*2*np.pi\n",
    "print (period_icecream)"
   ]
  },
  {
   "cell_type": "markdown",
   "metadata": {},
   "source": [
    "# Question 4"
   ]
  },
  {
   "cell_type": "code",
   "execution_count": 116,
   "metadata": {},
   "outputs": [
    {
     "data": {
      "text/plain": [
       "[<matplotlib.lines.Line2D at 0x1c15511ef0>]"
      ]
     },
     "execution_count": 116,
     "metadata": {},
     "output_type": "execute_result"
    },
    {
     "data": {
      "image/png": "[encoded data removed]",
      "text/plain": [
       "<matplotlib.figure.Figure at 0x1c153d1780>"
      ]
     },
     "metadata": {},
     "output_type": "display_data"
    }
   ],
   "source": [
    "#use numpy.random.binomial to generate a random number list with a 53% probability of voting for Clinton.\n",
    "\n",
    "days = 200\n",
    "p = 0.53\n",
    "\n",
    "#Populate an array of dates starting from June 1 and ending Nov 4, aka Election Day\n",
    "datelist = pd.bdate_range('2016-06-01 00:00:00', periods=113).tolist()\n",
    "\n",
    "dates_arr = np.zeros(len(datelist))\n",
    "\n",
    "#Loop over the array of dates to associate a probability of Hillary winning with each day\n",
    "for i in range(len(datelist)):\n",
    "    data = np.random.binomial(days, p)\n",
    "    #Probability of Hillary winning minus probability of Trump winning to get the overall difference in points \n",
    "    diff = ((data/200) - (1- (data/200)))*100\n",
    "    dates_arr[i] = diff\n",
    "\n",
    "plt.plot(datelist, dates_arr)"
   ]
  },
  {
   "cell_type": "markdown",
   "metadata": {},
   "source": [
    "# Question 4 pt. b"
   ]
  },
  {
   "cell_type": "code",
   "execution_count": 149,
   "metadata": {},
   "outputs": [
    {
     "name": "stdout",
     "output_type": "stream",
     "text": [
      "Hillary no longer wins\n",
      "-30.470000000000166\n"
     ]
    }
   ],
   "source": [
    "'''\n",
    "Let's create a loop that iterates over all probabilities, \n",
    "starting at 100% and moving down, until the point difference drops below 0. At that point \n",
    "we'll know what point difference would need to exist in order for a candidate to have a \n",
    "100% chance of winning\n",
    "'''\n",
    "p2 = 1.0\n",
    "interviews = 200\n",
    "end = False\n",
    "\n",
    "for i in range(100):\n",
    "    for j in range(200):\n",
    "        datesnew_arr = np.zeros(len(datelist))\n",
    "        for k in range(len(datelist)):\n",
    "            data2 = np.random.binomial(interviews, p2)\n",
    "            diff2 = ((data2/interviews) - (1- (data2/interviews)))*100\n",
    "            datesnew_arr[k] = diff2\n",
    "        if min(datesnew_arr) < 0:\n",
    "            print('Hillary no longer wins')\n",
    "            end = True\n",
    "            print(p)\n",
    "            break\n",
    "    p2 -= 0.1\n",
    "    if p2 < 0.5 or end is True:\n",
    "        break"
   ]
  },
  {
   "cell_type": "markdown",
   "metadata": {},
   "source": [
    "# Question 4 pt. c"
   ]
  },
  {
   "cell_type": "code",
   "execution_count": 144,
   "metadata": {},
   "outputs": [
    {
     "name": "stdout",
     "output_type": "stream",
     "text": [
      "Trump no longer wins\n",
      "2810\n"
     ]
    }
   ],
   "source": [
    "'''\n",
    "Let's create a loop that iterates over all probabilities, \n",
    "starting at 100% and moving down, until the point difference drops below 0. At that point \n",
    "we'll know what point difference would need to exist in order for a candidate to have a \n",
    "100% chance of winning\n",
    "'''\n",
    "p3 = 0.515 #This is 51.5% - 3% = 47.5%\n",
    "interviews_new = 10\n",
    "end = False\n",
    "\n",
    "for i in range(10000):\n",
    "    for j in range(100):\n",
    "        dates_new_arr = np.zeros(len(datelist))\n",
    "        for k in range(len(datelist)):\n",
    "            data3 = np.random.binomial(interviews_new, p3)\n",
    "            diff3 = ((data3/interviews_new) - (1- (data3/interviews_new)))*100\n",
    "            dates_new_arr[k] = diff3\n",
    "        if min(dates_new_arr) > 0:\n",
    "            print('Trump no longer wins')\n",
    "            end = True\n",
    "            print(interviews_new)\n",
    "            break\n",
    "    interviews_new += 100\n",
    "    if end is True:\n",
    "        break"
   ]
  },
  {
   "cell_type": "code",
   "execution_count": 150,
   "metadata": {},
   "outputs": [
    {
     "name": "stdout",
     "output_type": "stream",
     "text": [
      "Trump no longer wins\n",
      "810\n"
     ]
    }
   ],
   "source": [
    "'''\n",
    "Let's create a loop that iterates over all probabilities, \n",
    "starting at 100% and moving down, until the point difference drops below 0. At that point \n",
    "we'll know what point difference would need to exist in order for a candidate to have a \n",
    "100% chance of winning\n",
    "'''\n",
    "p3 = 0.53 #This is 51.5% - 3% = 47.5%\n",
    "interviews_new = 10\n",
    "end = False\n",
    "\n",
    "for i in range(10000):\n",
    "    for j in range(100):\n",
    "        dates_new_arr = np.zeros(len(datelist))\n",
    "        for k in range(len(datelist)):\n",
    "            data3 = np.random.binomial(interviews_new, p3)\n",
    "            diff3 = ((data3/interviews_new) - (1- (data3/interviews_new)))*100\n",
    "            dates_new_arr[k] = diff3\n",
    "        if min(dates_new_arr) > 0:\n",
    "            print('Trump no longer wins')\n",
    "            end = True\n",
    "            print(interviews_new)\n",
    "            break\n",
    "    interviews_new += 100\n",
    "    if end is True:\n",
    "        break"
   ]
  },
  {
   "cell_type": "code",
   "execution_count": null,
   "metadata": {
    "collapsed": true
   },
   "outputs": [],
   "source": []
  }
 ],
 "metadata": {
  "kernelspec": {
   "display_name": "Python 3",
   "language": "python",
   "name": "python3"
  },
  "language_info": {
   "codemirror_mode": {
    "name": "ipython",
    "version": 3
   },
   "file_extension": ".py",
   "mimetype": "text/x-python",
   "name": "python",
   "nbconvert_exporter": "python",
   "pygments_lexer": "ipython3",
   "version": "3.6.3"
  }
 },
 "nbformat": 4,
 "nbformat_minor": 2
}
